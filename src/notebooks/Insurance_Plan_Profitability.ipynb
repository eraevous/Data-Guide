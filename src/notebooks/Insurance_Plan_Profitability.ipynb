{
 "cells": [
  {
   "cell_type": "markdown",
   "metadata": {},
   "source": [
    "Questions\n",
    "<br>🔹 Which insurance plans are most/least profitable? <br>🔹 Which plans delay payments the most? <br>🔹 Should any plans be renegotiated or dropped? <br>🔹 Who are the bad payers & under-reimbursed procedures?"
   ]
  },
  {
   "cell_type": "markdown",
   "metadata": {},
   "source": [
    "Datasets \n",
    "<br>🔹 Insurance Payments & Adjustments <br>🔹 Processed Payments <br>🔹 Financial Timeline"
   ]
  },
  {
   "cell_type": "markdown",
   "metadata": {},
   "source": [
    "# Insurance Plan Profitability Analysis<br>\n",
    "📌 Goal: Identify which plans are worth keeping vs. renegotiating.<br>\n",
    "✅ Steps:<br>\n",
    "\n",
    "Compare reimbursement rates across different plans.<br>\n",
    "Rank insurance companies based on payment speed, denial rates, & adjustments.<br>\n",
    "Identify plans that consistently underpay or delay payments.<br>\n",
    "✅ Datasets Used:<br>\n",
    "Insurance Payments & Adjustments, Processed Payments, Financial Timeline<br>\n",
    "📌 Business Impact:<br>\n",
    "🚀 Improves contract negotiation leverage.<br>\n",
    "🚀 Justifies dropping low-margin plans.<br>"
   ]
  },
  {
   "cell_type": "code",
   "execution_count": null,
   "metadata": {},
   "outputs": [],
   "source": []
  }
 ],
 "metadata": {
  "language_info": {
   "name": "python"
  }
 },
 "nbformat": 4,
 "nbformat_minor": 2
}
