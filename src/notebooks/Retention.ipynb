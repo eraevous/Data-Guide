{
 "cells": [
  {
   "cell_type": "code",
   "execution_count": null,
   "metadata": {},
   "outputs": [],
   "source": [
    "import os\n",
    "import sys\n",
    "import pandas as pd\n",
    "import numpy as np\n",
    "import matplotlib.pyplot as plt\n",
    "import seaborn as sns   \n",
    "from collections import defaultdict\n",
    "import re\n",
    "import Levenshtein\n",
    "from itertools import combinations\n",
    "from scipy.stats import gmean\n",
    "import profiler as pf\n",
    "\n",
    "os.chdir('C:/Users/Admin/Documents/GitHub/Data-Guide')"
   ]
  },
  {
   "cell_type": "code",
   "execution_count": null,
   "metadata": {},
   "outputs": [],
   "source": [
    "input_dir = \"C:/Users/Admin/Documents/GitHub/Data-Guide/data_pipeline/transformed_feb_18\" \n",
    "\n",
    "output_dir = \"C:/Users/Admin/Documents/GitHub/Data-Guide/data_pipeline/analyses_feb_18\"\n",
    "if not os.path.exists(output_dir):\n",
    "    os.makedirs(output_dir)\n",
    "\n",
    "# Load the data\n",
    "csv_files = {\n",
    "        \"aged_AR\" : os.path.join(input_dir, \"transformed_aged_AR.csv\"),\n",
    "        # \"statement_submission\" : os.path.join(input_dir, \"statement_submission_report.csv\"),\n",
    "         \"integrated_payments\" : os.path.join(input_dir, \"transformed_integrated_payments.csv\"),\n",
    "        #\"billing_statement\" : os.path.join(input_dir, \"billing_statement_report.csv\"),\n",
    "        # \"outstanding_claims\" : os.path.join(input_dir, \"outstanding_claims_report.csv\"),\n",
    "        # \"unresolved_claims\" : os.path.join(input_dir, \"unresolved_claims_report.csv\"),\n",
    "        #\"fee_schedule\" : os.path.join(input_dir, \"fee_schedule.csv\"),\n",
    "        #\"openings\" : os.path.join(input_dir,\"openings.csv\"),\n",
    "        #\"schedule\" : os.path.join(input_dir,\"schedule.csv\"),\n",
    "        \"patient_list\" : os.path.join(input_dir, \"transformed_patient_details.csv\"),\n",
    "        # \"processed_payments\": os.path.join(input_dir, \"ZR - Credit Card Processed Payments.csv\"),\n",
    "        \"transaction_details\" : os.path.join(input_dir, \"transformed_transaction_details.csv\"),\n",
    "        \"charges\" : os.path.join(input_dir, \"transformed_incurred_charges.csv\"),\n",
    "        # \"treatment_tracker\" : os.path.join(input_dir, \"ZR - Treatment Tracker.csv\"),\n",
    "    }\n",
    "\n",
    " # Load datasets\n",
    "dataframes = {dataset: pd.read_csv(file_path) for dataset, file_path in csv_files.items()}"
   ]
  },
  {
   "cell_type": "code",
   "execution_count": null,
   "metadata": {},
   "outputs": [],
   "source": [
    "def curve(x, n = 2):\n",
    "    return round(x.replace([0, np.inf, -np.inf], np.nan).dropna().mean(), n)"
   ]
  },
  {
   "cell_type": "markdown",
   "metadata": {},
   "source": [
    "# Patient Data Only"
   ]
  },
  {
   "cell_type": "markdown",
   "metadata": {},
   "source": [
    "## Initial processing and simple checks"
   ]
  },
  {
   "cell_type": "code",
   "execution_count": null,
   "metadata": {},
   "outputs": [],
   "source": [
    "patients = dataframes[\"patient_list\"]\n",
    "\n",
    "patients['surviving'] = (patients['Status'] == 'ACTIVE') | (pd.to_datetime(patients['Last Visit']) > (pd.Timestamp.today() - pd.DateOffset(years=1)))"
   ]
  },
  {
   "cell_type": "code",
   "execution_count": null,
   "metadata": {},
   "outputs": [],
   "source": [
    "patients['surviving'].value_counts()"
   ]
  },
  {
   "cell_type": "code",
   "execution_count": null,
   "metadata": {},
   "outputs": [],
   "source": [
    "# Find those who only have one visit\n",
    "\n",
    "patients['lone_vist'] = patients['Last Visit'] == patients['First Visit']\n",
    "patients['lone_vist'].value_counts()"
   ]
  },
  {
   "cell_type": "code",
   "execution_count": null,
   "metadata": {},
   "outputs": [],
   "source": [
    "patients['lifespan'] = patients.apply(lambda row: max((pd.Timestamp.today() - pd.to_datetime(row['First Visit'])).days, \n",
    "                                                      (pd.to_datetime(row['Next Appointment Date']) - pd.to_datetime(row['First Visit'])).days) \n",
    "                                      if row['surviving'] else \n",
    "                                      (pd.to_datetime(row['Last Visit']) - pd.to_datetime(row['First Visit'])).days, axis=1)"
   ]
  },
  {
   "cell_type": "code",
   "execution_count": null,
   "metadata": {},
   "outputs": [],
   "source": [
    "temporal = pf.TemporalAnalyzer(patients, output_dir)\n",
    "plotters = pf.DataProfilerPlots(patients)"
   ]
  },
  {
   "cell_type": "code",
   "execution_count": null,
   "metadata": {},
   "outputs": [],
   "source": [
    "numeric = pf.NumericProfiler(patients['lifespan'])\n",
    "numeric.profile()"
   ]
  },
  {
   "cell_type": "code",
   "execution_count": null,
   "metadata": {},
   "outputs": [],
   "source": [
    "plotters.histogram('lifespan', f\"{output_dir}/lifespan_hist.png\")\n",
    "plotters.kde_plot('lifespan', f\"{output_dir}/lifespan_kde.png\")\n",
    "plotters.box_plot('lifespan', f\"{output_dir}/lifespan_box.png\")"
   ]
  },
  {
   "cell_type": "code",
   "execution_count": null,
   "metadata": {},
   "outputs": [],
   "source": [
    "patients['Cleaned Carrier'].value_counts().head(30)"
   ]
  },
  {
   "cell_type": "code",
   "execution_count": null,
   "metadata": {},
   "outputs": [],
   "source": [
    "carriers = ['Delta Dental', 'Blue Cross Blue Shield', 'MetLife', 'Aetna', 'Guardian','CIGNA Global Health', 'United Healthcare Dental', 'Humana', 'Sun Life Financial (PO Box 2940 Clinton IA)', 'Principal Financial Group', 'Unum (Administered by Starmount)']"
   ]
  },
  {
   "cell_type": "code",
   "execution_count": null,
   "metadata": {},
   "outputs": [],
   "source": [
    "patients['carrier'] = patients['Cleaned Carrier'].apply(lambda x: x if x in carriers else 'OTHER')\n",
    "patients['carrier'].value_counts()"
   ]
  },
  {
   "cell_type": "code",
   "execution_count": null,
   "metadata": {},
   "outputs": [],
   "source": [
    "patients['ZIP'] = patients['ZIP Code'].apply(lambda x: x if x in ['60640', '60613', '60625', '60618'] else 'OTHER')\n",
    "patients['ZIP'].value_counts()"
   ]
  },
  {
   "cell_type": "code",
   "execution_count": null,
   "metadata": {},
   "outputs": [],
   "source": [
    "patients['DCS'] = patients['Pat. Prim. Plan'].str.contains('DCS')\n",
    "patients['DNU'] = patients['Pat. Prim. Plan'].str.contains('DNU')"
   ]
  },
  {
   "cell_type": "code",
   "execution_count": null,
   "metadata": {},
   "outputs": [],
   "source": [
    "patients.loc[(patients['lifespan'].isna()) & (patients['Status'].isin(['ACTIVE', 'INACTIVE'])) & (~patients['First Visit'].isna())].drop(columns=['Patient', 'Primary Guarantor', 'Primary Contact', 'Last Name', 'Chart Number', 'Ascend Patient ID', 'Date Of Birth', 'Phone', 'Email', 'Address']).head(30)"
   ]
  },
  {
   "cell_type": "code",
   "execution_count": null,
   "metadata": {},
   "outputs": [],
   "source": [
    "patients.loc[(patients['lifespan'].isna()) & (patients['Status'].isin(['ACTIVE', 'INACTIVE'])) & (~patients['First Visit'].isna()), 'lifespan'] = 0"
   ]
  },
  {
   "cell_type": "code",
   "execution_count": null,
   "metadata": {},
   "outputs": [],
   "source": [
    "prediction_columns = ['surviving', 'lone_vist', 'lifespan', 'Discount Plan', 'Pat. Prim. Fee Schedule', 'carrier', 'ZIP', 'student', 'patientAge', 'DCS', 'DNU']"
   ]
  },
  {
   "cell_type": "markdown",
   "metadata": {},
   "source": [
    "## Survival Analyses"
   ]
  },
  {
   "cell_type": "code",
   "execution_count": null,
   "metadata": {},
   "outputs": [],
   "source": [
    "return_df = patients.loc[(patients['First Visit'] < '2024-02-01') & (patients['Status'].isin(['ACTIVE', 'INACTIVE'])) & (~patients['First Visit'].isna()), prediction_columns].copy()\n",
    "survival_df = patients.loc[(patients['Status'].isin(['ACTIVE', 'INACTIVE']) & (~patients['First Visit'].isna())), prediction_columns].copy()"
   ]
  },
  {
   "cell_type": "code",
   "execution_count": null,
   "metadata": {},
   "outputs": [],
   "source": [
    "return_df"
   ]
  },
  {
   "cell_type": "code",
   "execution_count": null,
   "metadata": {},
   "outputs": [],
   "source": [
    "survival_df"
   ]
  },
  {
   "cell_type": "code",
   "execution_count": null,
   "metadata": {},
   "outputs": [],
   "source": [
    "numeric = pf.NumericProfiler(survival_df['lifespan'])\n",
    "numeric.profile()"
   ]
  },
  {
   "cell_type": "code",
   "execution_count": null,
   "metadata": {},
   "outputs": [],
   "source": [
    "import lifelines\n",
    "from lifelines import KaplanMeierFitter, CoxPHFitter"
   ]
  },
  {
   "cell_type": "code",
   "execution_count": null,
   "metadata": {},
   "outputs": [],
   "source": [
    "# Fit the Kaplan-Meier estimator\n",
    "kmf = KaplanMeierFitter()\n",
    "kmf.fit(survival_df['lifespan'], event_observed=survival_df['surviving'])\n",
    "\n",
    "# Plot survival curve\n",
    "kmf.plot_survival_function()"
   ]
  },
  {
   "cell_type": "code",
   "execution_count": null,
   "metadata": {},
   "outputs": [],
   "source": [
    "s_df = pd.get_dummies(survival_df, drop_first=True).drop(columns=['lone_vist'])\n",
    "s_df"
   ]
  },
  {
   "cell_type": "code",
   "execution_count": null,
   "metadata": {},
   "outputs": [],
   "source": [
    "# Fit Cox model\n",
    "cph = CoxPHFitter()\n",
    "cph.fit(s_df, duration_col='lifespan', event_col='surviving')\n",
    "\n",
    "# Print results and plot\n",
    "cph.print_summary()\n",
    "cph.plot()"
   ]
  },
  {
   "cell_type": "code",
   "execution_count": null,
   "metadata": {},
   "outputs": [],
   "source": [
    "# Fit Cox model\n",
    "cph = CoxPHFitter()\n",
    "cph.fit(s_df.loc[:,['surviving','lifespan', 'patientAge', 'DCS_True', 'DNU_True', 'carrier_Humana']], duration_col='lifespan', event_col='surviving')\n",
    "\n",
    "# Print results and plot\n",
    "cph.print_summary()\n",
    "cph.plot()"
   ]
  },
  {
   "cell_type": "markdown",
   "metadata": {},
   "source": [
    "## Survival Curves"
   ]
  },
  {
   "cell_type": "code",
   "execution_count": null,
   "metadata": {},
   "outputs": [],
   "source": [
    "s_df2 = survival_df.copy()\n",
    "\n",
    "# Convert categorical predictors to strings for stratification\n",
    "columns_to_convert = ['Discount Plan', 'carrier', 'Pat. Prim. Fee Schedule', 'ZIP', 'student', 'DCS', 'DNU']\n",
    "s_df2[columns_to_convert] = s_df2[columns_to_convert].apply(lambda x: x.astype(str))\n",
    "\n",
    "# Create age bins for Kaplan-Meier stratification\n",
    "s_df2['Age Group'] = pd.cut(s_df2['patientAge'], bins=[18, 30, 50, 80], labels=[\"18-30\", \"30-50\", \"50+\"])"
   ]
  },
  {
   "cell_type": "code",
   "execution_count": null,
   "metadata": {},
   "outputs": [],
   "source": [
    "def plot_km_survival(df, time_col, event_col, group_col):\n",
    "    \"\"\"\n",
    "    Plots Kaplan-Meier survival curves stratified by a categorical column.\n",
    "\n",
    "    Args:\n",
    "        df (pd.DataFrame): The dataframe containing survival data.\n",
    "        time_col (str): The column representing duration/time.\n",
    "        event_col (str): The column representing event occurrence (1 = event, 0 = censored).\n",
    "        group_col (str): The categorical column to stratify by.\n",
    "    \n",
    "    Returns:\n",
    "        None (Displays the survival plot)\n",
    "    \"\"\"\n",
    "    kmf = KaplanMeierFitter()\n",
    "    plt.figure(figsize=(10, 6))\n",
    "\n",
    "    for category in df[group_col].dropna().unique():\n",
    "        subset = df[df[group_col] == category]\n",
    "        kmf.fit(subset[time_col], event_observed=subset[event_col], label=str(category))\n",
    "        kmf.plot_survival_function()\n",
    "\n",
    "    plt.title(f\"Kaplan-Meier Survival Curve by {group_col}\")\n",
    "    plt.xlabel(\"Time (Days)\")\n",
    "    plt.ylabel(\"Survival Probability\")\n",
    "    plt.legend(title=group_col)\n",
    "    plt.grid(True)\n",
    "    plt.show()"
   ]
  },
  {
   "cell_type": "code",
   "execution_count": null,
   "metadata": {},
   "outputs": [],
   "source": [
    "plot_km_survival(s_df2,'lifespan', 'surviving', 'Age Group')"
   ]
  },
  {
   "cell_type": "code",
   "execution_count": null,
   "metadata": {},
   "outputs": [],
   "source": [
    "carriers = ['Delta Dental', 'Blue Cross Blue Shield', 'MetLife']\n",
    "s_df2['carrier'] = s_df2['carrier'].apply(lambda x: x if x in carriers else 'OTHER')\n",
    "s_df2['carrier'].value_counts()"
   ]
  },
  {
   "cell_type": "code",
   "execution_count": null,
   "metadata": {},
   "outputs": [],
   "source": [
    "# columns_to_convert = ['Discount Plan', 'carrier', 'Pat. Prim. Fee Schedule', 'ZIP', 'student', 'DCS', 'DNU']\n",
    "plot_km_survival(s_df2,'lifespan', 'surviving', 'carrier')"
   ]
  },
  {
   "cell_type": "code",
   "execution_count": null,
   "metadata": {},
   "outputs": [],
   "source": [
    "s_df2['Pat. Prim. Fee Schedule'].value_counts()"
   ]
  },
  {
   "cell_type": "code",
   "execution_count": null,
   "metadata": {},
   "outputs": [],
   "source": [
    "fee_schedules = ['Careington Care Platinum PPO 2025', 'Delta Dental Premier', 'CIGNA 2022 Z219', ' Juniper Office Fees']\n",
    "s_df2['fee_schedule'] = s_df2['Pat. Prim. Fee Schedule'].apply(lambda x: x if x in fee_schedules else 'OTHER or None')\n",
    "s_df2['fee_schedule'].value_counts()"
   ]
  },
  {
   "cell_type": "code",
   "execution_count": null,
   "metadata": {},
   "outputs": [],
   "source": [
    "# columns_to_convert = ['Discount Plan', 'carrier', 'Pat. Prim. Fee Schedule', 'ZIP', 'student', 'DCS', 'DNU']\n",
    "plot_km_survival(s_df2,'lifespan', 'surviving', 'fee_schedule')"
   ]
  },
  {
   "cell_type": "code",
   "execution_count": null,
   "metadata": {},
   "outputs": [],
   "source": [
    "plot_km_survival(s_df2,'lifespan', 'surviving', 'ZIP')"
   ]
  },
  {
   "cell_type": "code",
   "execution_count": null,
   "metadata": {},
   "outputs": [],
   "source": [
    "plot_km_survival(s_df2,'lifespan', 'surviving', 'student')"
   ]
  },
  {
   "cell_type": "code",
   "execution_count": null,
   "metadata": {},
   "outputs": [],
   "source": [
    "plot_km_survival(s_df2.loc[s_df2['DCS'] != 'nan'],'lifespan', 'surviving', 'DCS')"
   ]
  },
  {
   "cell_type": "code",
   "execution_count": null,
   "metadata": {},
   "outputs": [],
   "source": [
    "plot_km_survival(s_df2.loc[s_df2['DNU'] != 'nan'],'lifespan', 'surviving', 'DNU')"
   ]
  },
  {
   "cell_type": "markdown",
   "metadata": {},
   "source": [
    "# Transaction & Charges "
   ]
  },
  {
   "cell_type": "markdown",
   "metadata": {},
   "source": [
    "\n",
    "## Processing"
   ]
  },
  {
   "cell_type": "code",
   "execution_count": null,
   "metadata": {},
   "outputs": [],
   "source": [
    "transactions = dataframes[\"transaction_details\"].copy()\n",
    "charges = dataframes[\"charges\"].copy()"
   ]
  },
  {
   "cell_type": "code",
   "execution_count": null,
   "metadata": {},
   "outputs": [],
   "source": [
    "charges"
   ]
  },
  {
   "cell_type": "code",
   "execution_count": null,
   "metadata": {},
   "outputs": [],
   "source": [
    "charges['Amount'] = charges['Amount']*-1\n",
    "charges['Date'] = pd.to_datetime(charges['Date (Modified)'])\n",
    "charges = charges[charges['Amount'] > 0]"
   ]
  },
  {
   "cell_type": "code",
   "execution_count": null,
   "metadata": {},
   "outputs": [],
   "source": [
    "charges"
   ]
  },
  {
   "cell_type": "code",
   "execution_count": null,
   "metadata": {},
   "outputs": [],
   "source": [
    "charge_data = charges.groupby('Ascend Patient ID').agg({\n",
    "    \"Amount\": [\n",
    "        (\"Total Charges\", lambda x: x.sum()), \n",
    "        (\"Average Charge\", lambda x: x.mean().round()), \n",
    "        (\"Max Charge\", lambda x: x.max())\n",
    "    ],\n",
    "    \"Date\": [\n",
    "        (\"Number of Charges\", lambda x: x.count()), \n",
    "        (\"First Charge Date\", lambda x: x.min()), \n",
    "        (\"Last Charge Date\", lambda x: x.max()), \n",
    "        (\"Timespan\", lambda x: (x.max()-x.min()).days)\n",
    "    ]\n",
    "}).pipe(lambda d: d.assign(\n",
    "    charges_per_year=lambda d: ( # Change to # Semiannual Charges\n",
    "        (d[(\"Date\", \"Number of Charges\")] * 365 / d[(\"Date\", \"Timespan\")])\n",
    "        .where(d[(\"Date\", \"Timespan\")] > 365, d[(\"Date\", \"Number of Charges\")])  # Fix for division by zero \n",
    "    ).replace([float(\"inf\"), -float(\"inf\")], None).fillna(0).round().astype(\"int\")\n",
    "))\n",
    "\n",
    "charge_data"
   ]
  },
  {
   "cell_type": "code",
   "execution_count": null,
   "metadata": {},
   "outputs": [],
   "source": [
    "charge_plotters = pf.DataProfilerPlots(charge_data)"
   ]
  },
  {
   "cell_type": "code",
   "execution_count": null,
   "metadata": {},
   "outputs": [],
   "source": [
    "for col in charge_data.select_dtypes(exclude=['datetime64[ns]']).columns:\n",
    "    print(f\"Numeric Profiling for {col}\")\n",
    "    print(pf.NumericProfiler(charge_data[col]).profile())\n",
    "    print(\"\\n\")\n",
    "    charge_plotters.histogram(col, f\"{output_dir}/{col}_hist.png\")"
   ]
  },
  {
   "cell_type": "code",
   "execution_count": null,
   "metadata": {},
   "outputs": [],
   "source": [
    "transactions['Date'] = pd.to_datetime(transactions['Date'])\n",
    "\n",
    "procedures = transactions.loc[transactions['Category'] == 'Procedures'].copy()\n",
    "insurance_payments = transactions.loc[transactions['Category'] == 'Insurance Payments'].copy()\n",
    "guarantor_payments = transactions.loc[transactions['Category'] == 'Guarantor Payments'].copy()\n",
    "adjustments = transactions.loc[transactions['Category'] == 'Credit Adjustments'].copy()"
   ]
  },
  {
   "cell_type": "code",
   "execution_count": null,
   "metadata": {},
   "outputs": [],
   "source": [
    "transactions"
   ]
  },
  {
   "cell_type": "code",
   "execution_count": null,
   "metadata": {},
   "outputs": [],
   "source": [
    "procedures"
   ]
  },
  {
   "cell_type": "code",
   "execution_count": null,
   "metadata": {},
   "outputs": [],
   "source": [
    "proc_words = ['evaluation', 'intraoral', 'periapical', 'prophylaxis', 'bitewing', 'resin', 'composite', 'images', 'posterior']\n",
    "proc_types = {'Th7, Th8, Th9, Th10': \"Th7-10\", 'Th23, Th24, Th25, Th26': 'Th23-26', 'Mouth ': 'Mouth'}\n",
    "# Take 'Th7, Th8, Th9, Th10', 'Th23, Th24, Th25, Th26', 'Mouth', and 'Other'\n",
    "# 'Proc Treatment Area'\n",
    "# Top 5 and Other\n",
    "# 'Proc. Description'"
   ]
  },
  {
   "cell_type": "code",
   "execution_count": null,
   "metadata": {},
   "outputs": [],
   "source": [
    "proc_data = procedures.groupby('Ascend Patient ID').agg({\n",
    "    \"Charges\": [\n",
    "        (\"Total Charges\", lambda x: x.sum()), \n",
    "        (\"Average Charge\", lambda x: x.mean().round()), \n",
    "        (\"Max Charge\", lambda x: x.max())\n",
    "    ],\n",
    "    \"Date\": [\n",
    "        (\"Number of Procedures\", lambda x: x.count()), \n",
    "        (\"First Procedure Date\", lambda x: x.min()), \n",
    "        (\"Last Procedure Date\", lambda x: x.max()), \n",
    "        (\"Procedure Timespan\", lambda x: (x.max()-x.min()).days)\n",
    "    ],\n",
    "    \"Proc Treatment Area\": [\n",
    "        (\"Top Treatment Area\", lambda x: x.mode().iloc[0] if not x.mode().empty else None),\n",
    "        (\"Number of Treatment Areas\", lambda x: x.nunique())\n",
    "    ],\n",
    "}).pipe(lambda d: d.assign(\n",
    "    procedures_per_year=lambda d: (\n",
    "        (d[(\"Date\", \"Number of Procedures\")] * 365 / d[(\"Date\", \"Procedure Timespan\")])\n",
    "        .where(d[(\"Date\", \"Procedure Timespan\")] > 365, d[(\"Date\", \"Number of Procedures\")])\n",
    "    ).replace([float(\"inf\"), -float(\"inf\")], None).fillna(0).round().astype(\"int\")\n",
    "))\n",
    "\n",
    "# Apply 'Any {w} Procedure' checks safely\n",
    "for w in proc_words:\n",
    "    proc_data[(f\"Any {w} Procedure\")] = (\n",
    "        procedures.groupby('Ascend Patient ID')[w]\n",
    "        .apply(lambda x: x.any())\n",
    "    )\n",
    "\n",
    "proc_data\n"
   ]
  },
  {
   "cell_type": "code",
   "execution_count": null,
   "metadata": {},
   "outputs": [],
   "source": [
    "procedures['Proc Area'] = procedures['Proc Treatment Area'].apply(lambda x: proc_types.get(x, 'Other'))\n",
    "\n",
    "# Group by Patient ID and Proc Area, then aggregate\n",
    "proc_data = procedures.groupby(['Ascend Patient ID', 'Proc Area']).agg({\n",
    "    \"Charges\": [\n",
    "        (\"Total Charges\", lambda x: x.sum()), \n",
    "        (\"Average Charge\", lambda x: x.mean().round()),\n",
    "        (\"Procedure Count\", lambda x: x.count())  # Count occurrences\n",
    "    ],\n",
    "    \"Proc. Description\": [\n",
    "        (\"Most Common Procedure\", lambda x: x.value_counts().index[0]),\n",
    "        (\"Number of Distinct Procedures\", lambda x: x.nunique())\n",
    "    ]\n",
    "})\n",
    "proc_data"
   ]
  },
  {
   "cell_type": "code",
   "execution_count": null,
   "metadata": {},
   "outputs": [],
   "source": [
    "proc_data_flat = proc_data.unstack(fill_value=0).copy()  # Unstack to separate into columns\n",
    "\n",
    "# Flatten MultiIndex Columns\n",
    "proc_data_flat.columns = [\" - \".join(map(str, col)).strip() for col in proc_data_flat.columns]\n",
    "proc_data_flat.head(30)"
   ]
  },
  {
   "cell_type": "code",
   "execution_count": null,
   "metadata": {},
   "outputs": [],
   "source": [
    "# Among other things, calculate the percent of the bills that are paid by insurance and the ratio of patient:insurance payments\n",
    "guarantor_payments['Credits'] = guarantor_payments['Credits']*-1\n",
    "guarantor_payments"
   ]
  },
  {
   "cell_type": "code",
   "execution_count": null,
   "metadata": {},
   "outputs": [],
   "source": [
    "payor_data = guarantor_payments.groupby('Ascend Patient ID').agg({\n",
    "    \"Credits\": [\n",
    "        (\"Total Guarantor Payment\", lambda x: x.sum()), \n",
    "        (\"Average Guarantor Payment\", lambda x: x.mean().round()), \n",
    "        (\"Max Guarantor Payment\", lambda x: x.max())\n",
    "    ],\n",
    "    \"Date\": [\n",
    "        (\"Number of Guarantor Payments\", lambda x: x.count()), \n",
    "        (\"First Guarantor Payment Date\", lambda x: x.min()), \n",
    "        (\"Last Guarantor Payment Date\", lambda x: x.max()), \n",
    "        (\"Guarantor Payment Timespan\", lambda x: (x.max()-x.min()).days)\n",
    "    ]\n",
    "}).pipe(lambda d: d.assign(\n",
    "    guarantor_payments_per_year=lambda d: (\n",
    "        (d[(\"Date\", \"Number of Guarantor Payments\")] * 365 / d[(\"Date\", \"Guarantor Payment Timespan\")])\n",
    "        .where(d[(\"Date\", \"Guarantor Payment Timespan\")] > 365, d[(\"Date\", \"Number of Guarantor Payments\")])  # Fix for division by zero\n",
    "    ).replace([float(\"inf\"), -float(\"inf\")], None).fillna(0).round().astype(\"int\")\n",
    "))\n",
    "\n",
    "payor_data"
   ]
  },
  {
   "cell_type": "code",
   "execution_count": null,
   "metadata": {},
   "outputs": [],
   "source": [
    "insurance_payments['Credits'] = insurance_payments['Credits']*-1\n",
    "insurance_payments"
   ]
  },
  {
   "cell_type": "code",
   "execution_count": null,
   "metadata": {},
   "outputs": [],
   "source": [
    "insurer_data = insurance_payments.groupby('Ascend Patient ID').agg({\n",
    "    \"Credits\": [\n",
    "        (\"Total Insurance Payment\", lambda x: x.sum()), \n",
    "        (\"Average Insurance Payment\", lambda x: x.mean().round()), \n",
    "        (\"Max Insurance Payment\", lambda x: x.max())\n",
    "    ],\n",
    "    \"Date\": [\n",
    "        (\"Number of Insurance Payments\", lambda x: x.count()), \n",
    "        (\"First Insurance Payment Date\", lambda x: x.min()), \n",
    "        (\"Last Insurance Payment Date\", lambda x: x.max()), \n",
    "        (\"Insurance Payment Timespan\", lambda x: (x.max()-x.min()).days)\n",
    "    ]\n",
    "}).pipe(lambda d: d.assign(\n",
    "    insurance_payments_per_year=lambda d: (\n",
    "        (d[(\"Date\", \"Number of Insurance Payments\")] * 365 / d[(\"Date\", \"Insurance Payment Timespan\")])\n",
    "        .where(d[(\"Date\", \"Insurance Payment Timespan\")] > 365, d[(\"Date\", \"Number of Insurance Payments\")])  # Fix for division by zero\n",
    "    ).replace([float(\"inf\"), -float(\"inf\")], None).fillna(0).round().astype(\"int\")\n",
    "))\n",
    "\n",
    "insurer_data"
   ]
  },
  {
   "cell_type": "code",
   "execution_count": null,
   "metadata": {},
   "outputs": [],
   "source": [
    "# Join datasets together, including the survival data\n"
   ]
  },
  {
   "cell_type": "markdown",
   "metadata": {},
   "source": [
    "# Time to Payment"
   ]
  },
  {
   "cell_type": "code",
   "execution_count": null,
   "metadata": {},
   "outputs": [],
   "source": [
    "transactions"
   ]
  },
  {
   "cell_type": "code",
   "execution_count": null,
   "metadata": {},
   "outputs": [],
   "source": [
    "transactions['Category'].value_counts()"
   ]
  },
  {
   "cell_type": "code",
   "execution_count": null,
   "metadata": {},
   "outputs": [],
   "source": [
    "transactions['Amount'] = transactions.apply(lambda row: row['Charges'] if row['Category'] in (['Procedures', 'Charge Adjustments']) else row['Credits'], axis=1)\n",
    "pf.NumericProfiler(transactions['Amount']).profile()"
   ]
  },
  {
   "cell_type": "code",
   "execution_count": null,
   "metadata": {},
   "outputs": [],
   "source": [
    "financial_timeline = transactions.loc[:,[\"Ascend Patient ID\", \"Category\", 'Date', 'Proc. Description', 'Proc Treatment Area', 'Amount']\n",
    "                                      ].melt(id_vars=[\"Ascend Patient ID\", \"Category\", 'Date', 'Proc. Description', 'Proc Treatment Area'], var_name=\"Var\", value_name=\"Value\"\n",
    "                                             ).drop(axis=1, columns=['Var']\n",
    "                                             ).sort_values([\"Ascend Patient ID\", 'Date']).query('Value != 0').groupby([\"Ascend Patient ID\", \"Category\", 'Date', 'Proc. Description']\n",
    "                                                                                                                      ).agg({\n",
    "                                                                                                                          \"Proc Treatment Area\": [\n",
    "                                                                                                                                (\"Number of Treatment Areas\", lambda x: x.nunique()),\n",
    "                                                                                                                                (\"Treatment Areas\", lambda x: \", \".join(x.dropna()))\n",
    "                                                                                                                            ],\n",
    "                                                                                                                            \"Value\": [\n",
    "                                                                                                                                (\"Value\", lambda x: x.sum())\n",
    "                                                                                                                            ],                                                                                                                            \n",
    "                                                                                                                      }).reset_index()"
   ]
  },
  {
   "cell_type": "code",
   "execution_count": null,
   "metadata": {},
   "outputs": [],
   "source": [
    "financial_timeline.columns"
   ]
  },
  {
   "cell_type": "code",
   "execution_count": null,
   "metadata": {},
   "outputs": [],
   "source": [
    "financial_timeline.columns = financial_timeline.columns.map(lambda x: x[1] if x[1] != '' else x[0])\n",
    "financial_timeline.head(60)"
   ]
  },
  {
   "cell_type": "code",
   "execution_count": null,
   "metadata": {},
   "outputs": [],
   "source": [
    "financial_timeline.to_csv(os.path.join(input_dir, \"financial_timeline.csv\"), index=False)"
   ]
  },
  {
   "cell_type": "code",
   "execution_count": null,
   "metadata": {},
   "outputs": [],
   "source": [
    "def allocate_payments(procedures, insurance_payments, guarantor_payments, adjustments):\n",
    "    \"\"\"Assigns payments (Insurance, Guarantor, Adjustments) to the most recent associated procedure unless the payment exceeds the charge.\"\"\"\n",
    "\n",
    "    # Initialize new columns for all payment types\n",
    "    for payment_type in [\"Insurance\", \"Guarantor\", \"Adjustment\"]:\n",
    "        procedures[f\"{payment_type} Payment Date\"] = pd.NaT\n",
    "        procedures[f\"{payment_type} Payment Amount\"] = 0\n",
    "        procedures[f\"{payment_type} Time to Payment\"] = None\n",
    "        procedures[f\"{payment_type} Percent Paid\"] = None\n",
    "\n",
    "    # Ensure datetime format\n",
    "    procedures[\"Date\"] = pd.to_datetime(procedures[\"Date\"])\n",
    "    insurance_payments[\"Date\"] = pd.to_datetime(insurance_payments[\"Date\"])\n",
    "    guarantor_payments[\"Date\"] = pd.to_datetime(guarantor_payments[\"Date\"])\n",
    "    adjustments[\"Date\"] = pd.to_datetime(adjustments[\"Date\"])\n",
    "\n",
    "    # Sort all datasets for sequential matching\n",
    "    procedures = procedures.sort_values([\"Ascend Patient ID\", \"Proc. Description\", \"Date\"]).reset_index(drop=True)\n",
    "    \n",
    "    for df, payment_type in [\n",
    "        (insurance_payments, \"Insurance\"),\n",
    "        (guarantor_payments, \"Guarantor\"),\n",
    "        (adjustments, \"Adjustment\"),\n",
    "    ]:\n",
    "        df = df.sort_values([\"Ascend Patient ID\", \"Proc. Description\", \"Date\"]).reset_index(drop=True)\n",
    "\n",
    "        # Iterate over payments\n",
    "        for _, payment in df.iterrows():\n",
    "            pid, pdate, pdesc, pvalue = payment[\"Ascend Patient ID\"], payment[\"Date\"], payment[\"Proc. Description\"], abs(payment[\"Value\"])\n",
    "\n",
    "            # Find eligible procedures before the payment date\n",
    "            eligible_procs = procedures[\n",
    "                (procedures[\"Ascend Patient ID\"] == pid) &\n",
    "                (procedures[\"Proc. Description\"] == pdesc) &\n",
    "                (procedures[\"Date\"] <= pdate) & \n",
    "                (procedures[f\"{payment_type} Payment Amount\"] == 0)  # Ensure payment hasn't already been assigned\n",
    "            ]\n",
    "\n",
    "            if not eligible_procs.empty:\n",
    "                # Find the most recent procedure (last one before payment date)\n",
    "                latest_proc_idx = eligible_procs.index[-1]\n",
    "                proc_charge = procedures.at[latest_proc_idx, \"Value\"]\n",
    "\n",
    "                # If payment is greater than the procedure charge, look for an earlier unpaid procedure\n",
    "                while pvalue > proc_charge and len(eligible_procs) > 1:\n",
    "                    eligible_procs = eligible_procs.iloc[:-1]  # Remove the most recent procedure\n",
    "                    latest_proc_idx = eligible_procs.index[-1]\n",
    "                    proc_charge = procedures.at[latest_proc_idx, \"Value\"]\n",
    "\n",
    "                # Assign payment to the determined procedure\n",
    "                procedures.at[latest_proc_idx, f\"{payment_type} Payment Date\"] = pdate\n",
    "                procedures.at[latest_proc_idx, f\"{payment_type} Payment Amount\"] = pvalue\n",
    "                procedures.at[latest_proc_idx, f\"{payment_type} Time to Payment\"] = (pdate - procedures.at[latest_proc_idx, \"Date\"]).days\n",
    "                procedures.at[latest_proc_idx, f\"{payment_type} Percent Paid\"] = round((pvalue / proc_charge), 2)\n",
    "\n",
    "    return procedures\n"
   ]
  },
  {
   "cell_type": "code",
   "execution_count": null,
   "metadata": {},
   "outputs": [],
   "source": [
    "procedures = financial_timeline.loc[financial_timeline['Category'] == 'Procedures'].copy()\n",
    "insurance_payments = financial_timeline.loc[financial_timeline['Category'] == 'Insurance Payments'].copy()\n",
    "guarantor_payments = financial_timeline.loc[financial_timeline['Category'] == 'Guarantor Payments'].copy()\n",
    "insurance_adjustments = financial_timeline.loc[financial_timeline['Category'] == 'Credit Adjustments'].copy()"
   ]
  },
  {
   "cell_type": "code",
   "execution_count": null,
   "metadata": {},
   "outputs": [],
   "source": [
    "time_to_payments = allocate_payments(procedures, insurance_payments, guarantor_payments, insurance_adjustments)\n",
    "time_to_payments.head(30)"
   ]
  },
  {
   "cell_type": "code",
   "execution_count": null,
   "metadata": {},
   "outputs": [],
   "source": [
    "time_to_payments.sort_values(by=[\"Ascend Patient ID\", \"Date\", 'Proc. Description']).head(30)"
   ]
  },
  {
   "cell_type": "code",
   "execution_count": null,
   "metadata": {},
   "outputs": [],
   "source": [
    "time_to_payments.sort_values(by=[\"Ascend Patient ID\", \"Date\", 'Proc. Description']).to_csv(os.path.join(input_dir, \"time_to_payments.csv\"), index=False)"
   ]
  },
  {
   "cell_type": "code",
   "execution_count": null,
   "metadata": {},
   "outputs": [],
   "source": []
  },
  {
   "cell_type": "code",
   "execution_count": null,
   "metadata": {},
   "outputs": [],
   "source": [
    "financial_timeline.groupby([\"Ascend Patient ID\", \"Category\", 'Date']).agg({\n",
    "    \"Value\": [\"sum\", (\"Average\", \"mean\"), \"max\",],\n",
    "    \"Proc. Description\": [\n",
    "        (\"Number Procedures\", \"count\"),\n",
    "        (\"Number Distinct Procedures\", \"nunique\")\n",
    "                          ]\n",
    "}).sort_values([\"Ascend Patient ID\", 'Date']).head(30)"
   ]
  },
  {
   "cell_type": "code",
   "execution_count": null,
   "metadata": {},
   "outputs": [],
   "source": [
    "time_to_payments['Total Payments'] = time_to_payments['Insurance Payment Amount'] + time_to_payments['Guarantor Payment Amount']\n",
    "\n",
    "grouped_payments = time_to_payments.groupby([\"Proc. Description\"]).agg({\n",
    "    \"Value\": [\n",
    "        (\"Total Charges\", \"sum\"), \n",
    "        (\"Average Charges\", lambda x: curve(x)), \n",
    "        (\"Largest Charge\", lambda x: x.replace([np.inf, -np.inf], np.nan).dropna().max()),  \n",
    "    ],\n",
    "    \"Total Payments\" :[\n",
    "        (\"Total Payments\", \"sum\"), \n",
    "        (\"Average Total Payment\", lambda x: curve(x)), \n",
    "        (\"Largest Total Payment\", lambda x: x.replace([np.inf, -np.inf], np.nan).dropna().max()),\n",
    "    ],\n",
    "    \"Insurance Payment Amount\": [\n",
    "        (\"Total Insurance Payments\", \"sum\"), \n",
    "        (\"Average Insurance Payment\", lambda x: curve(x)), \n",
    "        (\"Largest Insurance Payment\", lambda x: x.replace([np.inf, -np.inf], np.nan).dropna().max()),\n",
    "        (\"Number of Insurance Payments\", lambda x: x.loc[~x.isin([0, np.inf, -np.inf])].count()),  # Count valid\n",
    "    ],\n",
    "    \"Insurance Time to Payment\": [\n",
    "        (\"Average Time to Insurance Payment\", lambda x: curve(x))\n",
    "    ],\n",
    "    \"Insurance Percent Paid\": [\n",
    "        (\"Average Percent Paid by Insurance\", lambda x: curve(x))\n",
    "    ],\n",
    "    \"Guarantor Payment Amount\": [\n",
    "        (\"Total Guarantor Payments\", \"sum\"), \n",
    "        (\"Average Guarantor Payment\", lambda x: curve(x)),  \n",
    "        (\"Largest Guarantor Payment\", lambda x: x.replace([np.inf, -np.inf], np.nan).dropna().max()),\n",
    "        (\"Number of Guarantor Payments\", lambda x: x.loc[~x.isin([0, np.inf, -np.inf])].count()),\n",
    "    ],\n",
    "    \"Guarantor Time to Payment\": [\n",
    "        (\"Average Time to Guarantor Payment\", lambda x: curve(x))\n",
    "    ],\n",
    "    \"Guarantor Percent Paid\": [\n",
    "        (\"Average Percent Paid by Guarantor\", lambda x: curve(x))\n",
    "    ],\n",
    "    \"Adjustment Payment Amount\": [\n",
    "        (\"Total Adjustments\", \"sum\"), \n",
    "        (\"Average Adjustment\", lambda x: curve(x)), \n",
    "        (\"Largest Adjustment\", lambda x: x.replace([np.inf, -np.inf], np.nan).dropna().max()),\n",
    "        (\"Number of Adjustments\", lambda x: x.loc[~x.isin([0, np.inf, -np.inf])].count()),\n",
    "    ],\n",
    "    \"Adjustment Time to Payment\": [\n",
    "        (\"Average Time to Adjustment\", lambda x: curve(x))\n",
    "    ],\n",
    "    \"Adjustment Percent Paid\": [\n",
    "        (\"Average Percent Adjusted\", lambda x: curve(x))\n",
    "    ],\n",
    "})\n",
    "\n",
    "grouped_payments.columns = grouped_payments.columns.droplevel(0)\n",
    "\n",
    "grouped_payments['Adjustment Inflation'] = round(1 / (1 - grouped_payments['Average Percent Adjusted']), 2)\n",
    "\n",
    "grouped_payments.sort_values(\"Total Charges\", ascending=False).head(30)"
   ]
  },
  {
   "cell_type": "code",
   "execution_count": null,
   "metadata": {},
   "outputs": [],
   "source": [
    "time_to_payments.sort_values(by=[\"Ascend Patient ID\", \"Date\", 'Proc. Description']).head(30)"
   ]
  },
  {
   "cell_type": "code",
   "execution_count": null,
   "metadata": {},
   "outputs": [],
   "source": [
    "time_to_payments.groupby([\"Ascend Patient ID\"]).agg({\n",
    "    \"Insurance Time to Payment\": [\"mean\"],\n",
    "    \"Guarantor Time to Payment\": [\"mean\"],\n",
    "    \"Adjustment Time to Payment\": [\"mean\"]\n",
    "})"
   ]
  },
  {
   "cell_type": "code",
   "execution_count": null,
   "metadata": {},
   "outputs": [],
   "source": [
    "full_timing = time_to_payments.merge(patients, on='Ascend Patient ID').sort_values(by=[\"Ascend Patient ID\", \"Date\", 'Proc. Description'])\n",
    "full_timing.head(30)"
   ]
  },
  {
   "cell_type": "code",
   "execution_count": null,
   "metadata": {},
   "outputs": [],
   "source": [
    "full_timing.columns"
   ]
  },
  {
   "cell_type": "code",
   "execution_count": null,
   "metadata": {},
   "outputs": [],
   "source": [
    "full_timing['Total Payments'] = full_timing['Insurance Payment Amount'] + full_timing['Guarantor Payment Amount']\n",
    "\n",
    "grouped_insurance_payments = full_timing.groupby(['Cleaned Carrier', \"Proc. Description\"]).agg({\n",
    "    \"Value\": [\n",
    "        (\"Total Charges\", \"sum\"), \n",
    "        (\"Number of Charges\", lambda x: x.count()),\n",
    "        (\"Average Charge\", lambda x: curve(x)), \n",
    "        (\"Largest Charge\", lambda x: x.replace([np.inf, -np.inf], np.nan).dropna().max()),  \n",
    "    ],\n",
    "    \"Total Payments\" :[\n",
    "        (\"Total Payments\", \"sum\"), \n",
    "        (\"Average Total Payment\", lambda x: curve(x)), \n",
    "        (\"Largest Total Payment\", lambda x: x.replace([np.inf, -np.inf], np.nan).dropna().max()),\n",
    "    ],\n",
    "    \"Insurance Payment Amount\": [\n",
    "        (\"Total Insurance Payments\", \"sum\"), \n",
    "        (\"Average Insurance Payment\", lambda x: curve(x)), \n",
    "        (\"Largest Insurance Payment\", lambda x: x.replace([np.inf, -np.inf], np.nan).dropna().max()),\n",
    "        (\"Number of Insurance Payments\", lambda x: x.loc[~x.isin([0, np.inf, -np.inf])].count()),  # Count valid\n",
    "    ],\n",
    "    \"Insurance Time to Payment\": [\n",
    "        (\"Average Time to Insurance Payment\", lambda x: curve(x))\n",
    "    ],\n",
    "    \"Insurance Percent Paid\": [\n",
    "        (\"Average Percent Paid by Insurance\", lambda x: curve(x))\n",
    "    ],\n",
    "    \"Guarantor Payment Amount\": [\n",
    "        (\"Total Guarantor Payments\", \"sum\"), \n",
    "        (\"Average Guarantor Payment\", lambda x: curve(x)),  \n",
    "        (\"Largest Guarantor Payment\", lambda x: x.replace([np.inf, -np.inf], np.nan).dropna().max()),\n",
    "        (\"Number of Guarantor Payments\", lambda x: x.loc[~x.isin([0, np.inf, -np.inf])].count()),\n",
    "    ],\n",
    "    \"Guarantor Time to Payment\": [\n",
    "        (\"Average Time to Guarantor Payment\", lambda x: curve(x))\n",
    "    ],\n",
    "    \"Guarantor Percent Paid\": [\n",
    "        (\"Average Percent Paid by Guarantor\", lambda x: curve(x))\n",
    "    ],\n",
    "    \"Adjustment Payment Amount\": [\n",
    "        (\"Total Adjustments\", \"sum\"), \n",
    "        (\"Average Adjustment\", lambda x: curve(x)), \n",
    "        (\"Largest Adjustment\", lambda x: x.replace([np.inf, -np.inf], np.nan).dropna().max()),\n",
    "        (\"Number of Adjustments\", lambda x: x.loc[~x.isin([0, np.inf, -np.inf])].count()),\n",
    "    ],\n",
    "    \"Adjustment Time to Payment\": [\n",
    "        (\"Average Time to Adjustment\", lambda x: curve(x))\n",
    "    ],\n",
    "    \"Adjustment Percent Paid\": [\n",
    "        (\"Average Percent Adjusted\", lambda x: curve(x))\n",
    "    ],\n",
    "})\n",
    "\n",
    "grouped_insurance_payments.columns = grouped_insurance_payments.columns.droplevel(0)\n",
    "\n",
    "grouped_insurance_payments['Adjustment Inflation'] = round(1 / grouped_insurance_payments['Average Percent Adjusted'], 2)\n"
   ]
  },
  {
   "cell_type": "code",
   "execution_count": null,
   "metadata": {},
   "outputs": [],
   "source": [
    "\n",
    "grouped_insurance_payments.sort_values(\"Total Payments\", ascending=False).head(30)"
   ]
  },
  {
   "cell_type": "code",
   "execution_count": null,
   "metadata": {},
   "outputs": [],
   "source": [
    "grouped_insurance_payments.sort_values(['Cleaned Carrier', 'Total Charges'], ascending=False).to_csv(os.path.join(input_dir, \"insurance_payment_metrics.csv\"), index=False)"
   ]
  },
  {
   "cell_type": "code",
   "execution_count": null,
   "metadata": {},
   "outputs": [],
   "source": [
    "full_timing['Total Payments'] = full_timing['Insurance Payment Amount'] + full_timing['Guarantor Payment Amount']\n",
    "\n",
    "insurance_payments_and_timing = full_timing.groupby(['Cleaned Carrier']).agg({\n",
    "    \"Patient\": [\n",
    "        (\"Number of Patients\", lambda x: x.nunique())\n",
    "    ],\n",
    "    \"Value\": [\n",
    "        (\"Total Charges\", \"sum\"), \n",
    "        (\"Number of Charges\", lambda x: x.count()),\n",
    "        (\"Average Charge\", lambda x: curve(x)), \n",
    "        #(\"Largest Charge\", lambda x: x.replace([np.inf, -np.inf], np.nan).dropna().max()),  \n",
    "    ],\n",
    "    \"Total Payments\" :[\n",
    "        (\"Total Payments\", \"sum\"), \n",
    "        #(\"Average Total Payment\", lambda x: round(x.replace([0, np.inf, -np.inf], np.nan).dropna().mean(), 2)), \n",
    "        #(\"Largest Total Payment\", lambda x: x.replace([np.inf, -np.inf], np.nan).dropna().max()),\n",
    "    ],\n",
    "    \"Insurance Payment Amount\": [\n",
    "        (\"Total Insurance Payments\", \"sum\"), \n",
    "        #(\"Average Insurance Payment\", lambda x: round(x.replace([0, np.inf, -np.inf], np.nan).dropna().mean(), 2)), \n",
    "        #(\"Largest Insurance Payment\", lambda x: x.replace([np.inf, -np.inf], np.nan).dropna().max()),\n",
    "        (\"Number of Insurance Payments\", lambda x: x.loc[~x.isin([0, np.inf, -np.inf])].count()),  # Count valid\n",
    "    ],\n",
    "    \"Insurance Time to Payment\": [\n",
    "        (\"Average Time to Insurance Payment\", lambda x: curve(x))\n",
    "    ],\n",
    "    \"Insurance Percent Paid\": [\n",
    "        (\"Average Percent Paid by Insurance\", lambda x: curve(x))\n",
    "    ],\n",
    "    \"Guarantor Payment Amount\": [\n",
    "        (\"Total Guarantor Payments\", \"sum\"), \n",
    "        (\"Average Guarantor Payment\", lambda x: curve(x)),  \n",
    "        (\"Largest Guarantor Payment\", lambda x: x.replace([np.inf, -np.inf], np.nan).dropna().max()),\n",
    "        (\"Number of Guarantor Payments\", lambda x: x.loc[~x.isin([0, np.inf, -np.inf])].count()),\n",
    "    ],\n",
    "    \"Guarantor Time to Payment\": [\n",
    "        (\"Average Time to Guarantor Payment\", lambda x: curve(x))\n",
    "    ],\n",
    "    \"Guarantor Percent Paid\": [\n",
    "        (\"Average Percent Paid by Guarantor\", lambda x: curve(x))\n",
    "    ],\n",
    "    \"Adjustment Payment Amount\": [\n",
    "        #(\"Total Adjustments\", \"sum\"), \n",
    "        #(\"Average Adjustment\", lambda x: round(x.replace([0, np.inf, -np.inf], np.nan).dropna().mean(), 2)), \n",
    "        #(\"Largest Adjustment\", lambda x: x.replace([np.inf, -np.inf], np.nan).dropna().max()),\n",
    "        #(\"Number of Adjustments\", lambda x: x.loc[~x.isin([0, np.inf, -np.inf])].count()),\n",
    "    ],\n",
    "    # \"Adjustment Time to Payment\": [\n",
    "    #     (\"Average Time to Adjustment\", lambda x: round(x.replace([0, np.inf, -np.inf], np.nan).dropna().mean(), 2))\n",
    "    # ],\n",
    "    \"Adjustment Percent Paid\": [\n",
    "        (\"Average Percent Adjusted\", lambda x: curve(x))\n",
    "    ],\n",
    "})\n",
    "\n",
    "insurance_payments_and_timing.columns = insurance_payments_and_timing.columns.droplevel(0)\n",
    "\n",
    "insurance_payments_and_timing['Adjustment Inflation'] = round(1 / insurance_payments_and_timing['Average Percent Adjusted'], 2)\n"
   ]
  },
  {
   "cell_type": "code",
   "execution_count": null,
   "metadata": {},
   "outputs": [],
   "source": [
    "insurance_payments_and_timing.sort_values(\"Total Payments\", ascending=False).head(30)"
   ]
  },
  {
   "cell_type": "code",
   "execution_count": null,
   "metadata": {},
   "outputs": [],
   "source": [
    "patients.columns"
   ]
  },
  {
   "cell_type": "code",
   "execution_count": null,
   "metadata": {},
   "outputs": [],
   "source": []
  },
  {
   "cell_type": "code",
   "execution_count": null,
   "metadata": {},
   "outputs": [],
   "source": [
    "insurance_info = patients.groupby('Cleaned Carrier').agg({\n",
    "    'Patient': [\n",
    "        (\"Number of Patients\", lambda x: x.nunique())\n",
    "    ],\n",
    "    'ZIP': [\n",
    "        (\"ZIP Codes\", lambda x: x.value_counts().to_dict()),\n",
    "    ],\n",
    "    'patientAge': [\n",
    "        (\"Average Age\", lambda x: curve(x, n=0)),\n",
    "        (\"Oldest Patient\", lambda x: x.max()),\n",
    "        (\"Youngest Patient\", lambda x: x.min()),\n",
    "    ],\n",
    "    'lifespan': [\n",
    "        (\"Average Lifespan\", lambda x: round(x.replace([np.inf, -np.inf], np.nan).dropna().mean(), 0)),\n",
    "        (\"Longest Patient\", lambda x: x.max()),\n",
    "        ('Number of Single-Visit Patients', lambda x: x.loc[x == 0].count()),\n",
    "    ],\n",
    "    'overdue': [\n",
    "        ('Number of Overdue Patients', lambda x: x.loc[x == True].count())\n",
    "    ]\n",
    "})\n",
    "insurance_info.columns = insurance_info.columns.droplevel(0)"
   ]
  },
  {
   "cell_type": "code",
   "execution_count": null,
   "metadata": {},
   "outputs": [],
   "source": [
    "insurance_info['Percent Single Visit'] = round(insurance_info['Number of Single-Visit Patients'] / insurance_info['Number of Patients'] * 100, 2)\n",
    "insurance_info['Percent Overdue'] = round(insurance_info['Number of Overdue Patients'] / insurance_info['Number of Patients'] * 100, 2)\n",
    "insurance_info.sort_values(\"Number of Patients\", ascending=False).head(30)"
   ]
  },
  {
   "cell_type": "code",
   "execution_count": null,
   "metadata": {},
   "outputs": [],
   "source": [
    "Carrier_Decision_Data = insurance_info.merge(insurance_payments_and_timing, left_index=True, right_index=True, how='outer')"
   ]
  },
  {
   "cell_type": "code",
   "execution_count": null,
   "metadata": {},
   "outputs": [],
   "source": [
    "Carrier_Decision_Data.sort_values(\"Number of Patients_x\", ascending=False).to_csv(os.path.join(input_dir, \"Carrier_Decision_Data.csv\"), index=False)"
   ]
  },
  {
   "cell_type": "code",
   "execution_count": null,
   "metadata": {},
   "outputs": [],
   "source": [
    "# Calculate time to payment\n",
    "# Merge on insurance, plan, age, etc."
   ]
  },
  {
   "cell_type": "markdown",
   "metadata": {},
   "source": []
  },
  {
   "cell_type": "code",
   "execution_count": null,
   "metadata": {},
   "outputs": [],
   "source": [
    "financial_timeline"
   ]
  },
  {
   "cell_type": "code",
   "execution_count": null,
   "metadata": {},
   "outputs": [],
   "source": [
    "\n",
    "\n",
    "parallel_coordinates(df[numeric_cols.to_list() + [class_column]], class_column, colormap=plt.get_cmap(\"tab10\"))"
   ]
  }
 ],
 "metadata": {
  "kernelspec": {
   "display_name": "Python 3",
   "language": "python",
   "name": "python3"
  },
  "language_info": {
   "codemirror_mode": {
    "name": "ipython",
    "version": 3
   },
   "file_extension": ".py",
   "mimetype": "text/x-python",
   "name": "python",
   "nbconvert_exporter": "python",
   "pygments_lexer": "ipython3",
   "version": "3.12.9"
  }
 },
 "nbformat": 4,
 "nbformat_minor": 2
}
